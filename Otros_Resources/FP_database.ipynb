{
 "cells": [
  {
   "cell_type": "code",
   "execution_count": 1,
   "metadata": {},
   "outputs": [],
   "source": [
    "%matplotlib inline\n",
    "import requests\n",
    "import json\n",
    "import ast\n",
    "import string\n",
    "import pandas as pd\n",
    "import pymongo\n",
    "from random import randint\n",
    "import re\n",
    "import numpy as np\n",
    "import matplotlib.pyplot as plt\n",
    "from datetime import date"
   ]
  },
  {
   "cell_type": "code",
   "execution_count": 2,
   "metadata": {},
   "outputs": [],
   "source": [
    "def send_request(jobCate):\n",
    "    try:\n",
    "        response = requests.get( url=\"https://www.amazon.jobs/en/search.json?\",params={\n",
    "                \"base_query\": \"\",\n",
    "                \"category[]\": jobCate,\n",
    "                \"city\": \"\",\n",
    "                \"country\": \"\",\n",
    "                \"county\": \"\",\n",
    "                \"facets[]\": \"location,category,normalized_location,job_function_id, business_category, schedule_type_id, employee_class, normalized_location, job_function_id\",\n",
    "                \"latitude\": \"\",\n",
    "                \"loc_group_id\": \"\",\n",
    "                \"loc_query\": \"\",\n",
    "                \"longitude\": \"\",\n",
    "                \"offset\": 0,\n",
    "                \"query_options\": \"\",\n",
    "                \"radius\": \"24km\",\n",
    "                \"region\": \"\",\n",
    "                \"result_limit\": 10000,\n",
    "                \"sort\": \"relevant\"},\n",
    "            headers={\n",
    "                \"Host\": \"www.amazon.jobs\",\n",
    "                \"Connection\": \"keep-alive\",\n",
    "                \"Pragma\": \"no-cache\",\n",
    "                \"Cache-Control\": \"no-cache\",\n",
    "                \"Accept\": \"*/*\",\n",
    "                \"User-Agent\": \"Mozilla/5.0 (Macintosh; Intel Mac OS X 10_14_6) AppleWebKit/537.36 (KHTML, like Gecko) Chrome/78.0.3904.70 Safari/537.36\",\n",
    "                \"Accept-Encoding\": \"gzip, deflate\",\n",
    "                \"Cookie\": \"preferred_locale=en-US\"})\n",
    "        print('Response HTTP Status Code: {status_code}'.format(\n",
    "            status_code=response.status_code))\n",
    "        return response.text\n",
    "    except requests.exceptions.RequestException:\n",
    "        print('HTTP Request failed')"
   ]
  },
  {
   "cell_type": "code",
   "execution_count": 3,
   "metadata": {},
   "outputs": [],
   "source": [
    "def geoL(city_L, country_L, cities, state_L, state, lat, lng, country_code):#, Lat_Lon):\n",
    "    if country_L == \"US\":\n",
    "        for count2 in range(0,len(cities)): \n",
    "            \n",
    "            if city_L == cities[count2] and state_L == state[count2]:\n",
    "                Lat_Lon = [lat[count2],lng[count2]]\n",
    "                break\n",
    "            if count2 == len(cities)-1:\n",
    "                Lat_Lon = [\"\",\"\"] \n",
    "    else:\n",
    "        for count2 in range(0,len(cities)):\n",
    "            if city_L == cities[count2]:\n",
    "                Lat_Lon = [lat[count2],lng[count2]]\n",
    "                break\n",
    "            if count2 == len(cities)-1:\n",
    "                for count in range(0,len(cities)):\n",
    "                    if country_code[count] == country_L:\n",
    "                        Lat_Lon = [lat[count],lng[count]]\n",
    "                        break\n",
    "                    if count == len(cities)-1:\n",
    "                        Lat_Lon = [\"\",\"\"]\n",
    "    return Lat_Lon"
   ]
  },
  {
   "cell_type": "code",
   "execution_count": 4,
   "metadata": {},
   "outputs": [],
   "source": [
    "#Get geocoordinates from a file\n",
    "geocoor = pd.read_csv(\"worldcities.csv\")\n",
    "cities = geocoor[\"city_ascii\"].tolist()\n",
    "country_code = geocoor[\"iso2\"].tolist()\n",
    "state = geocoor[\"admin_name\"].tolist()\n",
    "lat = geocoor[\"lat\"].tolist()\n",
    "lng = geocoor[\"lng\"].tolist()"
   ]
  },
  {
   "cell_type": "code",
   "execution_count": 5,
   "metadata": {},
   "outputs": [],
   "source": [
    "def addr(Location):\n",
    "    try:\n",
    "        comP_loc = Location.split(\", \")\n",
    "        if (len(comP_loc) == 3):\n",
    "            st = comP_loc[1]\n",
    "        if (len(comP_loc) == 2):\n",
    "            st = \"NaN\"\n",
    "        return st\n",
    "    except:\n",
    "        st = \"NaN\"\n",
    "        return st"
   ]
  },
  {
   "cell_type": "code",
   "execution_count": 6,
   "metadata": {},
   "outputs": [],
   "source": [
    "def updating(job_categories):\n",
    "    category_add_rem = []    \n",
    "    jobs_L = []\n",
    "    job_list_to_add = []\n",
    "    job_list_to_rem = []\n",
    "\n",
    "    for job_cat in job_categories:\n",
    "        raw_D = send_request(job_cat)    #aqui llamando a la funcion\n",
    "        raw_D = json.loads(raw_D)\n",
    "        jobs = raw_D[\"jobs\"]             #esta lista contiene todos los roles que van a ser documents en el collection\n",
    "\n",
    "        jobs_dic = {}\n",
    "        city_L = []\n",
    "        country_L =[]\n",
    "        state_L = []\n",
    "        job_ID_list = []\n",
    "        arr = []\n",
    "        \n",
    "        for job in jobs:\n",
    "            jobs_dic[\"category\"] = job[\"job_category\"]\n",
    "            jobs_dic[\"title\"] = job[\"title\"]\n",
    "            jobs_dic[\"Job_ID\"] = job[\"id_icims\"]\n",
    "            jobs_dic[\"City\"] = job[\"city\"]\n",
    "            jobs_dic[\"Country\"] = job[\"country_code\"]\n",
    "\n",
    "            statex = job[\"normalized_location\"]\n",
    "            state_L = addr(statex)           #aqui llamo a la funcion ADDR\n",
    "            \n",
    "            jobs_dic[\"Posted_date\"] = job[\"posted_date\"]\n",
    "            jobs_dic[\"Description\"] = job[\"description\"]\n",
    "            jobs_dic[\"Basic_Qualif\"] = job[\"basic_qualifications\"]\n",
    "            jobs_dic[\"Preferred_Qualif\"] = job[\"preferred_qualifications\"]\n",
    "            jobs_dic[\"Company\"] = job[\"company_name\"]\n",
    "            jobs_dic[\"Apply\"] = job[\"url_next_step\"]\n",
    "            jobs_dic[\"Geocoordinates\"] = geoL(job[\"city\"], job[\"country_code\"], cities, state_L, state, lat, lng, country_code)\n",
    "            job_ID_list.append(job[\"id_icims\"])\n",
    "            jobs_L.append(jobs_dic.copy())\n",
    "\n",
    "        for obj in collection.find():\n",
    "            try:\n",
    "                formaObj = obj[\"category\"].lower()\n",
    "                formaObj = re.sub(\"/\", \" \", formaObj)\n",
    "                formaObj = re.sub(\"-\", \" \", formaObj)\n",
    "                formaObj = formaObj.translate(str.maketrans('', '', string.punctuation))\n",
    "                formaObj = re.sub(\" +\", \" \", formaObj)\n",
    "                formaObj = re.sub(\" \", \"-\", formaObj)\n",
    "            except:\n",
    "                print(\"error\", obj[\"Job_ID\"])\n",
    "\n",
    "            if formaObj == job_cat:\n",
    "                arr.append(obj[\"Job_ID\"])\n",
    "\n",
    "        new_jobs = list(set(job_ID_list) - set(arr))\n",
    "        remove_jobs = list(set(arr) - set(job_ID_list))\n",
    "        job_list_to_add = job_list_to_add + new_jobs\n",
    "        job_list_to_rem = job_list_to_rem + remove_jobs\n",
    "        category_add_rem.append([len(new_jobs),len(remove_jobs)])\n",
    "    return category_add_rem, job_list_to_add, job_list_to_rem, jobs_L"
   ]
  },
  {
   "cell_type": "code",
   "execution_count": 7,
   "metadata": {},
   "outputs": [],
   "source": [
    "job_categories = [\"administrative-support\",                    #01done\n",
    "                  \"audio-video-photography-production\",        #02done\n",
    "                 \"business-merchant-development\",              #03done\n",
    "                 \"business-intelligence\",                      #04done\n",
    "                 \"buying-planning-instock-management\",         #05done\n",
    "                 \"customer-service\",                           #06done\n",
    "                 \"data-science\",                               #07done\n",
    "                 \"database-administration\",                    #08done\n",
    "                 \"design\",                                     #09done\n",
    "                 \"economics\",                                  #10done\n",
    "                 \"editorial-writing-content-management\",       #11done\n",
    "                 \"facilities-maintenance-real-estate\",         #12done\n",
    "                 \"finance-accounting\",                         #13done\n",
    "                 \"fulfillment-operations-management\",\n",
    "                 \"fulfillment-warehouse-associate\",\n",
    "                 \"hardware-development\",\n",
    "                 \"human-resources\",                            #17done\n",
    "                 \"investigation-loss-prevention\",\n",
    "                 \"leadership-development-training\",\n",
    "                 \"legal\",\n",
    "                 \"machine-learning-science\",                   #21done\n",
    "                 \"marketing-pr\",\n",
    "                 \"medical-health-safety\",\n",
    "                 \"operations-it-support-engineering\",          #24done\n",
    "                 \"project-program-product-management-non-tech\",#25done\n",
    "                 \"public-policy\",\n",
    "                 \"research-science\",                           #27done\n",
    "                 \"sales-advertising-account-management\",\n",
    "                 \"software-development\",                      #29done\n",
    "                 \"solutions-architect\",                        #30done\n",
    "                 \"supply-chain-transportation-management\",     #31done\n",
    "                 \"systems-quality-security-engineering\",       #32done\n",
    "                 \"project-program-product-management-technical\"] #33done"
   ]
  },
  {
   "cell_type": "code",
   "execution_count": 8,
   "metadata": {},
   "outputs": [],
   "source": [
    "conn = 'mongodb://localhost:27017'\n",
    "client = pymongo.MongoClient(conn)\n",
    "\n",
    "db = client.jobs\n",
    "collection = db.roles\n",
    "collection2 = db.filled"
   ]
  },
  {
   "cell_type": "code",
   "execution_count": 9,
   "metadata": {},
   "outputs": [
    {
     "name": "stdout",
     "output_type": "stream",
     "text": [
      "Response HTTP Status Code: 200\n",
      "Response HTTP Status Code: 200\n",
      "Response HTTP Status Code: 200\n",
      "Response HTTP Status Code: 200\n",
      "Response HTTP Status Code: 200\n",
      "Response HTTP Status Code: 200\n",
      "Response HTTP Status Code: 200\n",
      "Response HTTP Status Code: 200\n",
      "Response HTTP Status Code: 200\n",
      "Response HTTP Status Code: 200\n",
      "Response HTTP Status Code: 200\n",
      "Response HTTP Status Code: 200\n",
      "Response HTTP Status Code: 200\n",
      "Response HTTP Status Code: 200\n",
      "Response HTTP Status Code: 200\n",
      "Response HTTP Status Code: 200\n",
      "Response HTTP Status Code: 200\n",
      "Response HTTP Status Code: 200\n",
      "Response HTTP Status Code: 200\n",
      "Response HTTP Status Code: 200\n",
      "Response HTTP Status Code: 200\n",
      "Response HTTP Status Code: 200\n",
      "Response HTTP Status Code: 200\n",
      "Response HTTP Status Code: 200\n",
      "Response HTTP Status Code: 200\n",
      "Response HTTP Status Code: 200\n",
      "Response HTTP Status Code: 200\n",
      "Response HTTP Status Code: 200\n",
      "Response HTTP Status Code: 200\n",
      "Response HTTP Status Code: 200\n",
      "Response HTTP Status Code: 200\n",
      "Response HTTP Status Code: 200\n",
      "Response HTTP Status Code: 200\n"
     ]
    }
   ],
   "source": [
    "Jobs_L = updating(job_categories)"
   ]
  },
  {
   "cell_type": "code",
   "execution_count": 10,
   "metadata": {},
   "outputs": [],
   "source": [
    "for new_job in Jobs_L[1]:\n",
    "    for job in Jobs_L[3]:\n",
    "        if new_job == job[\"Job_ID\"]:\n",
    "            collection.insert_one(job)\n",
    "for filled_job in Jobs_L[2]:\n",
    "    collection.delete_one({\"Job_ID\" : filled_job})\n",
    "            "
   ]
  },
  {
   "cell_type": "code",
   "execution_count": 11,
   "metadata": {},
   "outputs": [
    {
     "name": "stderr",
     "output_type": "stream",
     "text": [
      "/anaconda3/lib/python3.7/site-packages/ipykernel_launcher.py:11: DeprecationWarning: insert is deprecated. Use insert_one or insert_many instead.\n",
      "  # This is added back by InteractiveShellApp.init_path()\n"
     ]
    },
    {
     "data": {
      "text/plain": [
       "[ObjectId('5dfd5fd10d9a665c5b11adeb'),\n",
       " ObjectId('5dfd5fd10d9a665c5b11adec'),\n",
       " ObjectId('5dfd5fd10d9a665c5b11aded'),\n",
       " ObjectId('5dfd5fd10d9a665c5b11adee'),\n",
       " ObjectId('5dfd5fd10d9a665c5b11adef'),\n",
       " ObjectId('5dfd5fd10d9a665c5b11adf0'),\n",
       " ObjectId('5dfd5fd10d9a665c5b11adf1'),\n",
       " ObjectId('5dfd5fd10d9a665c5b11adf2'),\n",
       " ObjectId('5dfd5fd10d9a665c5b11adf3'),\n",
       " ObjectId('5dfd5fd10d9a665c5b11adf4'),\n",
       " ObjectId('5dfd5fd10d9a665c5b11adf5'),\n",
       " ObjectId('5dfd5fd10d9a665c5b11adf6'),\n",
       " ObjectId('5dfd5fd10d9a665c5b11adf7'),\n",
       " ObjectId('5dfd5fd10d9a665c5b11adf8'),\n",
       " ObjectId('5dfd5fd10d9a665c5b11adf9'),\n",
       " ObjectId('5dfd5fd10d9a665c5b11adfa'),\n",
       " ObjectId('5dfd5fd10d9a665c5b11adfb'),\n",
       " ObjectId('5dfd5fd10d9a665c5b11adfc'),\n",
       " ObjectId('5dfd5fd10d9a665c5b11adfd'),\n",
       " ObjectId('5dfd5fd10d9a665c5b11adfe'),\n",
       " ObjectId('5dfd5fd10d9a665c5b11adff'),\n",
       " ObjectId('5dfd5fd10d9a665c5b11ae00'),\n",
       " ObjectId('5dfd5fd10d9a665c5b11ae01'),\n",
       " ObjectId('5dfd5fd10d9a665c5b11ae02'),\n",
       " ObjectId('5dfd5fd10d9a665c5b11ae03'),\n",
       " ObjectId('5dfd5fd10d9a665c5b11ae04'),\n",
       " ObjectId('5dfd5fd10d9a665c5b11ae05'),\n",
       " ObjectId('5dfd5fd10d9a665c5b11ae06'),\n",
       " ObjectId('5dfd5fd10d9a665c5b11ae07'),\n",
       " ObjectId('5dfd5fd10d9a665c5b11ae08'),\n",
       " ObjectId('5dfd5fd10d9a665c5b11ae09'),\n",
       " ObjectId('5dfd5fd10d9a665c5b11ae0a'),\n",
       " ObjectId('5dfd5fd10d9a665c5b11ae0b')]"
      ]
     },
     "execution_count": 11,
     "metadata": {},
     "output_type": "execute_result"
    }
   ],
   "source": [
    "today = date.today()\n",
    "jobs_filled = {}\n",
    "jobs_F = []\n",
    "for j in range(0,len(Jobs_L[0])):\n",
    "    jobs_filled[\"category\"] = job_categories[j]\n",
    "    jobs_filled[\"#_Jobs_added\"] = Jobs_L[0][j][0]\n",
    "    jobs_filled[\"#_Jobs_filled\"] = Jobs_L[0][j][1]\n",
    "    jobs_filled[\"Date\"] = today.strftime(\"%m/%d/%y\")\n",
    "    jobs_F.append(jobs_filled.copy())\n",
    "    \n",
    "collection2.insert(jobs_F)"
   ]
  },
  {
   "cell_type": "code",
   "execution_count": null,
   "metadata": {},
   "outputs": [
    {
     "name": "stderr",
     "output_type": "stream",
     "text": [
      "/anaconda3/lib/python3.7/site-packages/ipykernel_launcher.py:1: DeprecationWarning: update is deprecated. Use replace_one, update_one or update_many instead.\n",
      "  \"\"\"Entry point for launching an IPython kernel.\n"
     ]
    }
   ],
   "source": [
    "collection.update({},{\"$unset\": {\"Apply\":\" \"}},{\"multi\": True});"
   ]
  },
  {
   "cell_type": "code",
   "execution_count": null,
   "metadata": {},
   "outputs": [],
   "source": []
  }
 ],
 "metadata": {
  "kernelspec": {
   "display_name": "Python 3",
   "language": "python",
   "name": "python3"
  },
  "language_info": {
   "codemirror_mode": {
    "name": "ipython",
    "version": 3
   },
   "file_extension": ".py",
   "mimetype": "text/x-python",
   "name": "python",
   "nbconvert_exporter": "python",
   "pygments_lexer": "ipython3",
   "version": "3.7.3"
  }
 },
 "nbformat": 4,
 "nbformat_minor": 2
}
